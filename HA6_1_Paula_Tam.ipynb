{
 "cells": [
  {
   "cell_type": "code",
   "execution_count": 1,
   "id": "850c67dd",
   "metadata": {},
   "outputs": [],
   "source": [
    "#CSC620\n",
    "#HA#6.1 -- Training File\n",
    "#Paula Abigail Tam <921850992>\n",
    "\n",
    "import pandas as pd\n",
    "from nltk import word_tokenize\n",
    "from nltk.corpus import stopwords #to remove stopwords that may affect the probability\n",
    "\n",
    "df_train_set = pd.read_csv('./HA6_csv/train.csv') #using pandas to read the .csv file\n",
    "\n",
    "df_list = [] #list to store tuples of words to make into a new dataframe"
   ]
  },
  {
   "cell_type": "code",
   "execution_count": 2,
   "id": "6614cca6",
   "metadata": {},
   "outputs": [],
   "source": [
    "priors = df_train_set['Class'].value_counts() / df_train_set['Class'].count()\n",
    "#print(priors.unique()) #positive = 0.5, negative = 0.5\n",
    "#print(priors.index[0])\n",
    "#print(priors.values)"
   ]
  },
  {
   "cell_type": "code",
   "execution_count": 3,
   "id": "89a3d2b4",
   "metadata": {},
   "outputs": [],
   "source": [
    "positive_word_count = 0\n",
    "negative_word_count = 0\n",
    "\n",
    "def normalize_words(words):\n",
    "    new_tokens = [word.casefold() for word in word_tokenize(words) if word.isalnum()] #only alphanumeric words\n",
    "    filtered_words = [word for word in new_tokens if word not in stopwords.words('english')] #to remove stopwords\n",
    "    return filtered_words\n",
    "\n",
    "for row in df_train_set.index:\n",
    "    #print(df_train_set['Document'][row], df_train_set['Class'][row])\n",
    "    curr_word = df_train_set['Document'][row]\n",
    "    for word in normalize_words(curr_word): #word_tokenize(df_train_set['Document'][row]):\n",
    "        #print(word, df_train_set['Class'][row])\n",
    "        curr_class = df_train_set['Class'][row]\n",
    "        if(curr_class == priors.index[0]):\n",
    "            positive_word_count += 1\n",
    "            df_list.append([word, curr_class, priors.values[0]]) #word, class, positive prior\n",
    "        else:\n",
    "            negative_word_count += 1\n",
    "            df_list.append([word, curr_class, priors.values[1]]) #word, class, negative prior"
   ]
  },
  {
   "cell_type": "code",
   "execution_count": 4,
   "id": "6ac18f7e",
   "metadata": {},
   "outputs": [],
   "source": [
    "cond_prob = lambda x: positive_word_count if x == priors.index[0] else negative_word_count #if string == 'positive'"
   ]
  },
  {
   "cell_type": "code",
   "execution_count": 5,
   "id": "9497a74a",
   "metadata": {},
   "outputs": [],
   "source": [
    "new_df = pd.DataFrame(df_list, columns=['Document', 'Class', 'Priors']) #new dataframe with the list of each word and the class it appears in\n",
    "values = new_df.groupby('Document').value_counts() / cond_prob(new_df.groupby('Class'))\n",
    "df_values = values.to_frame()\n",
    "\n",
    "#print(df_values)\n",
    "#print(values)\n",
    "#print(type(values)) #pandas.core.series.Series"
   ]
  },
  {
   "cell_type": "code",
   "execution_count": 6,
   "id": "9400e00f",
   "metadata": {},
   "outputs": [],
   "source": [
    "values.to_csv('./HA6_csv/model.csv')"
   ]
  }
 ],
 "metadata": {
  "kernelspec": {
   "display_name": "Python 3 (ipykernel)",
   "language": "python",
   "name": "python3"
  },
  "language_info": {
   "codemirror_mode": {
    "name": "ipython",
    "version": 3
   },
   "file_extension": ".py",
   "mimetype": "text/x-python",
   "name": "python",
   "nbconvert_exporter": "python",
   "pygments_lexer": "ipython3",
   "version": "3.9.12"
  }
 },
 "nbformat": 4,
 "nbformat_minor": 5
}

{
 "cells": [
  {
   "cell_type": "code",
   "execution_count": 49,
   "id": "3ac0c747",
   "metadata": {},
   "outputs": [],
   "source": [
    "#CSC620\n",
    "#HA#6.2 -- Using NB Classification File\n",
    "#Paula Abigail Tam <921850992>\n",
    "\n",
    "import pandas as pd\n",
    "from nltk import word_tokenize\n",
    "import math #to use .prod\n",
    "\n",
    "model_check = pd.read_csv('./HA6_csv/model.csv') #using pandas to read the .csv file\n",
    "model_check.rename(columns={'0':'Cond. Prob.'}, inplace=True) #to rename the column with all the probabilities\n",
    "\n",
    "df_test_set = pd.read_csv('./HA6_csv/test.csv') #read test set\n",
    "\n",
    "df_pred = pd.DataFrame(columns=['Document', 'Predicted Class', 'Actual Class']) #prep new df for the predictions"
   ]
  },
  {
   "cell_type": "code",
   "execution_count": 50,
   "id": "ad3df66a",
   "metadata": {},
   "outputs": [],
   "source": [
    "def normalize_words(words): #for test set\n",
    "    new_tokens = [word.casefold() for word in word_tokenize(words) if word.isalnum()] #only alphanumeric words\n",
    "    return new_tokens\n",
    "\n",
    "def multiply(list_prob): #to multiply the probabilities\n",
    "    if not list_prob: #if empty list\n",
    "        result = 0\n",
    "    else:\n",
    "        result = math.prod(list_prob) #multiply all probabilities together\n",
    "    return result\n",
    "\n",
    "for row in df_test_set.index: #row in test set\n",
    "    #print(df_test_set['Document'][row], df_test_set['Class'][row])\n",
    "    curr_sent = df_test_set['Document'][row] #each sentence in test\n",
    "    actual_class = df_test_set['Class'][row] #the actual class of the doc\n",
    "    pos_prob = [] #both inside for loops so it empties automatically\n",
    "    neg_prob = []\n",
    "    for test_word in normalize_words(curr_sent): #normalize and each word\n",
    "        #print(test_word, \" in \", curr_sent)\n",
    "        for model_row in model_check.index: #each word in model\n",
    "            curr_model_word = model_check['Document'][model_row]\n",
    "            curr_model_class = model_check['Class'][model_row]\n",
    "            curr_model_prior = model_check['Priors'][model_row]\n",
    "            curr_model_prob = model_check['Cond. Prob.'][model_row]\n",
    "            if test_word == curr_model_word: #if strings are the same\n",
    "                #print(test_word, curr_model_word)\n",
    "                if curr_model_class == model_check.Class.unique()[0]: #if the model word is positive class\n",
    "                    #print(curr_model_class, curr_model_prob)\n",
    "                    pos_prob.append(curr_model_prob)\n",
    "                else: #if negative\n",
    "                    #print(curr_model_class, curr_model_prob)\n",
    "                    neg_prob.append(curr_model_prob)\n",
    "            else: #if word is NOT in the model, skip it\n",
    "                continue;\n",
    "        \n",
    "    #print(\"end of first sent\")\n",
    "    #print(curr_sent)\n",
    "    #print(pos_prob)\n",
    "    #print(neg_prob)\n",
    "    if multiply(pos_prob)*curr_model_prior > multiply(neg_prob)*curr_model_prior: #if pos > neg\n",
    "        #print(\"positive\")\n",
    "        row = {'Document': curr_sent, 'Predicted Class': \"positive\", 'Actual Class': actual_class}\n",
    "        new_df = pd.DataFrame([row])\n",
    "        df_pred = pd.concat([df_pred, new_df], ignore_index=True) #cant use pd.append bc it's being deprecated\n",
    "    elif multiply(pos_prob)*curr_model_prior < multiply(neg_prob)*curr_model_prior: #if neg < pos\n",
    "        #print(\"negative\")\n",
    "        row = {'Document': curr_sent, 'Predicted Class': \"negative\", 'Actual Class': actual_class}\n",
    "        new_df = pd.DataFrame([row])\n",
    "        df_pred = pd.concat([df_pred, new_df], ignore_index=True)\n",
    "    else: #if equal or smth\n",
    "        print(\"Shouldn't happen.\") #corner case\n",
    "    #neg, neg, pos, pos, pos, neg, neg, neg, pos, neg  #output\n",
    "    #pos, neg, pos, neg, pos, pos, neg, neg, neg, pos #actual\n",
    "    #print(\"pos_prob: \", multiply(pos_prob))\n",
    "    #print(\"neg_prob: \", multiply(neg_prob))"
   ]
  },
  {
   "cell_type": "code",
   "execution_count": 51,
   "id": "ad8ffb1a",
   "metadata": {},
   "outputs": [],
   "source": [
    "#print(df_pred)\n",
    "df_pred.to_csv('./HA6_csv/test_predictions.csv', index=False)"
   ]
  }
 ],
 "metadata": {
  "kernelspec": {
   "display_name": "Python 3 (ipykernel)",
   "language": "python",
   "name": "python3"
  },
  "language_info": {
   "codemirror_mode": {
    "name": "ipython",
    "version": 3
   },
   "file_extension": ".py",
   "mimetype": "text/x-python",
   "name": "python",
   "nbconvert_exporter": "python",
   "pygments_lexer": "ipython3",
   "version": "3.9.12"
  }
 },
 "nbformat": 4,
 "nbformat_minor": 5
}
